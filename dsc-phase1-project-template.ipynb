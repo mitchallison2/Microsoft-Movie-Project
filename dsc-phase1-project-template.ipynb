{
 "cells": [
  {
   "cell_type": "markdown",
   "metadata": {},
   "source": [
    "![example](images/director_shot.jpeg)"
   ]
  },
  {
   "cell_type": "markdown",
   "metadata": {},
   "source": [
    "# Project Title\n",
    "\n",
    "**Authors:** Mitch Allison, Brenda De Leon, Matt Rubic\n",
    "***"
   ]
  },
  {
   "cell_type": "markdown",
   "metadata": {},
   "source": [
    "## Overview\n",
    "\n",
    "A one-paragraph overview of the project, including the business problem, data, methods, results and recommendations."
   ]
  },
  {
   "cell_type": "markdown",
   "metadata": {},
   "source": [
    "## Business Problem\n",
    "\n",
    "Summary of the business problem you are trying to solve, and the data questions that you plan to answer to solve them.\n",
    "\n",
    "***\n",
    "Questions to consider:\n",
    "* What are the business's pain points related to this project?\n",
    "* How did you pick the data analysis question(s) that you did?\n",
    "* Why are these questions important from a business perspective?\n",
    "***"
   ]
  },
  {
   "cell_type": "markdown",
   "metadata": {},
   "source": [
    "We are looking to find at least 3 actionable steps to insure the greatest chance for a new movie's financial success. The questions to be answered are:\n",
    "* What budget provides the greatest profit or ROI?\n",
    "* What actors/actresses/directors lead to the greatest profit?\n",
    "* What genres lead to the greatest profit at differing movie budgets?\n",
    "* What is the best time of year to release a movie?\n",
    "\n",
    "***\n",
    "Notes:\n",
    "* A new movie studio has no relationship with talent or catalogue of movies. We need to use our initial seed money intelligently, to foster future success.\n",
    "* We picked these questions to answer after looking at the cleaned data and spotting certain trends.\n",
    "* A new movie is expensive. We need to analyze data from the past decade of movies to maximize profit given a certain budget.\n",
    "Starting with a flop as a new studio is likely difficult to recover from without additional investment."
   ]
  },
  {
   "cell_type": "markdown",
   "metadata": {},
   "source": [
    "## Data Understanding\n",
    "\n",
    "Describe the data being used for this project.\n",
    "***\n",
    "Questions to consider:\n",
    "* Where did the data come from, and how do they relate to the data analysis questions?\n",
    "* What do the data represent? Who is in the sample and what variables are included?\n",
    "* What is the target variable?\n",
    "* What are the properties of the variables you intend to use?\n",
    "***"
   ]
  },
  {
   "cell_type": "code",
   "execution_count": 1,
   "metadata": {},
   "outputs": [],
   "source": [
    "# Import standard packages\n",
    "import pandas as pd\n",
    "import numpy as np\n",
    "import matplotlib.pyplot as plt\n",
    "import seaborn as sns\n",
    "import string\n",
    "import sqlite3\n",
    "\n",
    "%matplotlib inline\n",
    "conn = sqlite3.connect('./zippedData/im.db')"
   ]
  },
  {
   "cell_type": "code",
   "execution_count": 2,
   "metadata": {},
   "outputs": [],
   "source": [
    "# loading the datasets\n",
    "TheNumbers = pd.read_csv('./zippedData/tn.movie_budgets.csv.gz')\n",
    "RTinfo = pd.read_csv('./zippedData/rt.movie_info.tsv.gz', sep='\\t')\n",
    "RTreviews = pd.read_csv('./zippedData/rt.reviews.tsv.gz', sep='\\t', encoding = 'unicode_escape')"
   ]
  },
  {
   "cell_type": "markdown",
   "metadata": {},
   "source": [
    "We used data from the IMDB SQL database to reference talent and movies. We used data from TheNumbers csv to find financial data for movies.\n",
    "Both datasets required some cleaning, espescially in order to join them and find trends between movies features and their financial data.\n",
    "\n",
    "***\n",
    "Notes:\n",
    "* This data is publicly available, from IMDB and TheNumbers. They relate to the questions as they are comprehensive sources for data concerning movies.\n",
    "* The data represents movies and their features. This data includes variables such as actors, directors, movies, budget, and grossing.\n",
    "* To answer our business questions, we needed to know each movie's financial information, how that movie was classified, when it was released,\n",
    "and who was associated with that movie.\n",
    "* We intend to use the correlations of budget to worldwide profit to find the movies that are most likely to see a good return on investment(budget)."
   ]
  },
  {
   "cell_type": "markdown",
   "metadata": {},
   "source": [
    "### Rotten Tomatoes Movie Info dataset"
   ]
  },
  {
   "cell_type": "code",
   "execution_count": 3,
   "metadata": {},
   "outputs": [
    {
     "data": {
      "text/html": [
       "<div>\n",
       "<style scoped>\n",
       "    .dataframe tbody tr th:only-of-type {\n",
       "        vertical-align: middle;\n",
       "    }\n",
       "\n",
       "    .dataframe tbody tr th {\n",
       "        vertical-align: top;\n",
       "    }\n",
       "\n",
       "    .dataframe thead th {\n",
       "        text-align: right;\n",
       "    }\n",
       "</style>\n",
       "<table border=\"1\" class=\"dataframe\">\n",
       "  <thead>\n",
       "    <tr style=\"text-align: right;\">\n",
       "      <th></th>\n",
       "      <th>id</th>\n",
       "      <th>synopsis</th>\n",
       "      <th>rating</th>\n",
       "      <th>genre</th>\n",
       "      <th>director</th>\n",
       "      <th>writer</th>\n",
       "      <th>theater_date</th>\n",
       "      <th>dvd_date</th>\n",
       "      <th>currency</th>\n",
       "      <th>box_office</th>\n",
       "      <th>runtime</th>\n",
       "      <th>studio</th>\n",
       "    </tr>\n",
       "  </thead>\n",
       "  <tbody>\n",
       "    <tr>\n",
       "      <th>0</th>\n",
       "      <td>1</td>\n",
       "      <td>This gritty, fast-paced, and innovative police...</td>\n",
       "      <td>R</td>\n",
       "      <td>Action and Adventure|Classics|Drama</td>\n",
       "      <td>William Friedkin</td>\n",
       "      <td>Ernest Tidyman</td>\n",
       "      <td>Oct 9, 1971</td>\n",
       "      <td>Sep 25, 2001</td>\n",
       "      <td>NaN</td>\n",
       "      <td>NaN</td>\n",
       "      <td>104 minutes</td>\n",
       "      <td>NaN</td>\n",
       "    </tr>\n",
       "    <tr>\n",
       "      <th>1</th>\n",
       "      <td>3</td>\n",
       "      <td>New York City, not-too-distant-future: Eric Pa...</td>\n",
       "      <td>R</td>\n",
       "      <td>Drama|Science Fiction and Fantasy</td>\n",
       "      <td>David Cronenberg</td>\n",
       "      <td>David Cronenberg|Don DeLillo</td>\n",
       "      <td>Aug 17, 2012</td>\n",
       "      <td>Jan 1, 2013</td>\n",
       "      <td>$</td>\n",
       "      <td>600,000</td>\n",
       "      <td>108 minutes</td>\n",
       "      <td>Entertainment One</td>\n",
       "    </tr>\n",
       "    <tr>\n",
       "      <th>2</th>\n",
       "      <td>5</td>\n",
       "      <td>Illeana Douglas delivers a superb performance ...</td>\n",
       "      <td>R</td>\n",
       "      <td>Drama|Musical and Performing Arts</td>\n",
       "      <td>Allison Anders</td>\n",
       "      <td>Allison Anders</td>\n",
       "      <td>Sep 13, 1996</td>\n",
       "      <td>Apr 18, 2000</td>\n",
       "      <td>NaN</td>\n",
       "      <td>NaN</td>\n",
       "      <td>116 minutes</td>\n",
       "      <td>NaN</td>\n",
       "    </tr>\n",
       "    <tr>\n",
       "      <th>3</th>\n",
       "      <td>6</td>\n",
       "      <td>Michael Douglas runs afoul of a treacherous su...</td>\n",
       "      <td>R</td>\n",
       "      <td>Drama|Mystery and Suspense</td>\n",
       "      <td>Barry Levinson</td>\n",
       "      <td>Paul Attanasio|Michael Crichton</td>\n",
       "      <td>Dec 9, 1994</td>\n",
       "      <td>Aug 27, 1997</td>\n",
       "      <td>NaN</td>\n",
       "      <td>NaN</td>\n",
       "      <td>128 minutes</td>\n",
       "      <td>NaN</td>\n",
       "    </tr>\n",
       "    <tr>\n",
       "      <th>4</th>\n",
       "      <td>7</td>\n",
       "      <td>NaN</td>\n",
       "      <td>NR</td>\n",
       "      <td>Drama|Romance</td>\n",
       "      <td>Rodney Bennett</td>\n",
       "      <td>Giles Cooper</td>\n",
       "      <td>NaN</td>\n",
       "      <td>NaN</td>\n",
       "      <td>NaN</td>\n",
       "      <td>NaN</td>\n",
       "      <td>200 minutes</td>\n",
       "      <td>NaN</td>\n",
       "    </tr>\n",
       "  </tbody>\n",
       "</table>\n",
       "</div>"
      ],
      "text/plain": [
       "   id                                           synopsis rating  \\\n",
       "0   1  This gritty, fast-paced, and innovative police...      R   \n",
       "1   3  New York City, not-too-distant-future: Eric Pa...      R   \n",
       "2   5  Illeana Douglas delivers a superb performance ...      R   \n",
       "3   6  Michael Douglas runs afoul of a treacherous su...      R   \n",
       "4   7                                                NaN     NR   \n",
       "\n",
       "                                 genre          director  \\\n",
       "0  Action and Adventure|Classics|Drama  William Friedkin   \n",
       "1    Drama|Science Fiction and Fantasy  David Cronenberg   \n",
       "2    Drama|Musical and Performing Arts    Allison Anders   \n",
       "3           Drama|Mystery and Suspense    Barry Levinson   \n",
       "4                        Drama|Romance    Rodney Bennett   \n",
       "\n",
       "                            writer  theater_date      dvd_date currency  \\\n",
       "0                   Ernest Tidyman   Oct 9, 1971  Sep 25, 2001      NaN   \n",
       "1     David Cronenberg|Don DeLillo  Aug 17, 2012   Jan 1, 2013        $   \n",
       "2                   Allison Anders  Sep 13, 1996  Apr 18, 2000      NaN   \n",
       "3  Paul Attanasio|Michael Crichton   Dec 9, 1994  Aug 27, 1997      NaN   \n",
       "4                     Giles Cooper           NaN           NaN      NaN   \n",
       "\n",
       "  box_office      runtime             studio  \n",
       "0        NaN  104 minutes                NaN  \n",
       "1    600,000  108 minutes  Entertainment One  \n",
       "2        NaN  116 minutes                NaN  \n",
       "3        NaN  128 minutes                NaN  \n",
       "4        NaN  200 minutes                NaN  "
      ]
     },
     "execution_count": 3,
     "metadata": {},
     "output_type": "execute_result"
    }
   ],
   "source": [
    "RTinfo.head()"
   ]
  },
  {
   "cell_type": "code",
   "execution_count": 4,
   "metadata": {},
   "outputs": [
    {
     "name": "stdout",
     "output_type": "stream",
     "text": [
      "<class 'pandas.core.frame.DataFrame'>\n",
      "RangeIndex: 1560 entries, 0 to 1559\n",
      "Data columns (total 12 columns):\n",
      " #   Column        Non-Null Count  Dtype \n",
      "---  ------        --------------  ----- \n",
      " 0   id            1560 non-null   int64 \n",
      " 1   synopsis      1498 non-null   object\n",
      " 2   rating        1557 non-null   object\n",
      " 3   genre         1552 non-null   object\n",
      " 4   director      1361 non-null   object\n",
      " 5   writer        1111 non-null   object\n",
      " 6   theater_date  1201 non-null   object\n",
      " 7   dvd_date      1201 non-null   object\n",
      " 8   currency      340 non-null    object\n",
      " 9   box_office    340 non-null    object\n",
      " 10  runtime       1530 non-null   object\n",
      " 11  studio        494 non-null    object\n",
      "dtypes: int64(1), object(11)\n",
      "memory usage: 146.4+ KB\n"
     ]
    }
   ],
   "source": [
    "RTinfo.info()"
   ]
  },
  {
   "cell_type": "markdown",
   "metadata": {},
   "source": [
    "**Discovery**\n",
    "\n",
    "May need to discover where the nulls are, convert string numbers to values. Looks like a lot of the Studio values are missing. Currency and box office seem to appear in the same entries, but only for like 20% of the data\n",
    "\n",
    "**How this data might be used**\n",
    "\n",
    "Could use this dataset to connect information about movies that appear in this dataset and others, to aggregate all information about a movie"
   ]
  },
  {
   "cell_type": "markdown",
   "metadata": {},
   "source": [
    "### Rotten Tomatoes Reviews dataset"
   ]
  },
  {
   "cell_type": "code",
   "execution_count": 5,
   "metadata": {},
   "outputs": [
    {
     "data": {
      "text/html": [
       "<div>\n",
       "<style scoped>\n",
       "    .dataframe tbody tr th:only-of-type {\n",
       "        vertical-align: middle;\n",
       "    }\n",
       "\n",
       "    .dataframe tbody tr th {\n",
       "        vertical-align: top;\n",
       "    }\n",
       "\n",
       "    .dataframe thead th {\n",
       "        text-align: right;\n",
       "    }\n",
       "</style>\n",
       "<table border=\"1\" class=\"dataframe\">\n",
       "  <thead>\n",
       "    <tr style=\"text-align: right;\">\n",
       "      <th></th>\n",
       "      <th>id</th>\n",
       "      <th>review</th>\n",
       "      <th>rating</th>\n",
       "      <th>fresh</th>\n",
       "      <th>critic</th>\n",
       "      <th>top_critic</th>\n",
       "      <th>publisher</th>\n",
       "      <th>date</th>\n",
       "    </tr>\n",
       "  </thead>\n",
       "  <tbody>\n",
       "    <tr>\n",
       "      <th>0</th>\n",
       "      <td>3</td>\n",
       "      <td>A distinctly gallows take on contemporary fina...</td>\n",
       "      <td>3/5</td>\n",
       "      <td>fresh</td>\n",
       "      <td>PJ Nabarro</td>\n",
       "      <td>0</td>\n",
       "      <td>Patrick Nabarro</td>\n",
       "      <td>November 10, 2018</td>\n",
       "    </tr>\n",
       "    <tr>\n",
       "      <th>1</th>\n",
       "      <td>3</td>\n",
       "      <td>It's an allegory in search of a meaning that n...</td>\n",
       "      <td>NaN</td>\n",
       "      <td>rotten</td>\n",
       "      <td>Annalee Newitz</td>\n",
       "      <td>0</td>\n",
       "      <td>io9.com</td>\n",
       "      <td>May 23, 2018</td>\n",
       "    </tr>\n",
       "    <tr>\n",
       "      <th>2</th>\n",
       "      <td>3</td>\n",
       "      <td>... life lived in a bubble in financial dealin...</td>\n",
       "      <td>NaN</td>\n",
       "      <td>fresh</td>\n",
       "      <td>Sean Axmaker</td>\n",
       "      <td>0</td>\n",
       "      <td>Stream on Demand</td>\n",
       "      <td>January 4, 2018</td>\n",
       "    </tr>\n",
       "    <tr>\n",
       "      <th>3</th>\n",
       "      <td>3</td>\n",
       "      <td>Continuing along a line introduced in last yea...</td>\n",
       "      <td>NaN</td>\n",
       "      <td>fresh</td>\n",
       "      <td>Daniel Kasman</td>\n",
       "      <td>0</td>\n",
       "      <td>MUBI</td>\n",
       "      <td>November 16, 2017</td>\n",
       "    </tr>\n",
       "    <tr>\n",
       "      <th>4</th>\n",
       "      <td>3</td>\n",
       "      <td>... a perverse twist on neorealism...</td>\n",
       "      <td>NaN</td>\n",
       "      <td>fresh</td>\n",
       "      <td>NaN</td>\n",
       "      <td>0</td>\n",
       "      <td>Cinema Scope</td>\n",
       "      <td>October 12, 2017</td>\n",
       "    </tr>\n",
       "  </tbody>\n",
       "</table>\n",
       "</div>"
      ],
      "text/plain": [
       "   id                                             review rating   fresh  \\\n",
       "0   3  A distinctly gallows take on contemporary fina...    3/5   fresh   \n",
       "1   3  It's an allegory in search of a meaning that n...    NaN  rotten   \n",
       "2   3  ... life lived in a bubble in financial dealin...    NaN   fresh   \n",
       "3   3  Continuing along a line introduced in last yea...    NaN   fresh   \n",
       "4   3             ... a perverse twist on neorealism...     NaN   fresh   \n",
       "\n",
       "           critic  top_critic         publisher               date  \n",
       "0      PJ Nabarro           0   Patrick Nabarro  November 10, 2018  \n",
       "1  Annalee Newitz           0           io9.com       May 23, 2018  \n",
       "2    Sean Axmaker           0  Stream on Demand    January 4, 2018  \n",
       "3   Daniel Kasman           0              MUBI  November 16, 2017  \n",
       "4             NaN           0      Cinema Scope   October 12, 2017  "
      ]
     },
     "execution_count": 5,
     "metadata": {},
     "output_type": "execute_result"
    }
   ],
   "source": [
    "RTreviews.head()"
   ]
  },
  {
   "cell_type": "code",
   "execution_count": 6,
   "metadata": {},
   "outputs": [
    {
     "name": "stdout",
     "output_type": "stream",
     "text": [
      "<class 'pandas.core.frame.DataFrame'>\n",
      "RangeIndex: 54432 entries, 0 to 54431\n",
      "Data columns (total 8 columns):\n",
      " #   Column      Non-Null Count  Dtype \n",
      "---  ------      --------------  ----- \n",
      " 0   id          54432 non-null  int64 \n",
      " 1   review      48869 non-null  object\n",
      " 2   rating      40915 non-null  object\n",
      " 3   fresh       54432 non-null  object\n",
      " 4   critic      51710 non-null  object\n",
      " 5   top_critic  54432 non-null  int64 \n",
      " 6   publisher   54123 non-null  object\n",
      " 7   date        54432 non-null  object\n",
      "dtypes: int64(2), object(6)\n",
      "memory usage: 3.3+ MB\n"
     ]
    }
   ],
   "source": [
    "RTreviews.info()"
   ]
  },
  {
   "cell_type": "markdown",
   "metadata": {},
   "source": [
    "**Discovery**\n",
    "\n",
    "Rating is not currently a value, will need to be converted to become useful. Many ratings are NaN and will need to be dropped, and many other ratings are letters and will need to be dropped. ratings are sometimes on a different scale (read:denominator), but can be converted to real numbers.\n",
    "\n",
    "Fresh or rotten seems to exist for each entry\n",
    "\n",
    "Dates are also strings and need to be normalized to be used\n",
    "\n",
    "ID be traced to which movie it represents, to aggregate\n",
    "\n",
    "May want a new group for just reviews by top critics\n",
    "\n",
    "**How this data might be used**\n",
    "\n",
    "Could be used to display movie ratings alongside other information for common movies from other datasets"
   ]
  },
  {
   "cell_type": "markdown",
   "metadata": {},
   "source": [
    "### The Numbers dataset"
   ]
  },
  {
   "cell_type": "code",
   "execution_count": 7,
   "metadata": {},
   "outputs": [
    {
     "data": {
      "text/html": [
       "<div>\n",
       "<style scoped>\n",
       "    .dataframe tbody tr th:only-of-type {\n",
       "        vertical-align: middle;\n",
       "    }\n",
       "\n",
       "    .dataframe tbody tr th {\n",
       "        vertical-align: top;\n",
       "    }\n",
       "\n",
       "    .dataframe thead th {\n",
       "        text-align: right;\n",
       "    }\n",
       "</style>\n",
       "<table border=\"1\" class=\"dataframe\">\n",
       "  <thead>\n",
       "    <tr style=\"text-align: right;\">\n",
       "      <th></th>\n",
       "      <th>id</th>\n",
       "      <th>release_date</th>\n",
       "      <th>movie</th>\n",
       "      <th>production_budget</th>\n",
       "      <th>domestic_gross</th>\n",
       "      <th>worldwide_gross</th>\n",
       "    </tr>\n",
       "  </thead>\n",
       "  <tbody>\n",
       "    <tr>\n",
       "      <th>0</th>\n",
       "      <td>1</td>\n",
       "      <td>Dec 18, 2009</td>\n",
       "      <td>Avatar</td>\n",
       "      <td>$425,000,000</td>\n",
       "      <td>$760,507,625</td>\n",
       "      <td>$2,776,345,279</td>\n",
       "    </tr>\n",
       "    <tr>\n",
       "      <th>1</th>\n",
       "      <td>2</td>\n",
       "      <td>May 20, 2011</td>\n",
       "      <td>Pirates of the Caribbean: On Stranger Tides</td>\n",
       "      <td>$410,600,000</td>\n",
       "      <td>$241,063,875</td>\n",
       "      <td>$1,045,663,875</td>\n",
       "    </tr>\n",
       "    <tr>\n",
       "      <th>2</th>\n",
       "      <td>3</td>\n",
       "      <td>Jun 7, 2019</td>\n",
       "      <td>Dark Phoenix</td>\n",
       "      <td>$350,000,000</td>\n",
       "      <td>$42,762,350</td>\n",
       "      <td>$149,762,350</td>\n",
       "    </tr>\n",
       "    <tr>\n",
       "      <th>3</th>\n",
       "      <td>4</td>\n",
       "      <td>May 1, 2015</td>\n",
       "      <td>Avengers: Age of Ultron</td>\n",
       "      <td>$330,600,000</td>\n",
       "      <td>$459,005,868</td>\n",
       "      <td>$1,403,013,963</td>\n",
       "    </tr>\n",
       "    <tr>\n",
       "      <th>4</th>\n",
       "      <td>5</td>\n",
       "      <td>Dec 15, 2017</td>\n",
       "      <td>Star Wars Ep. VIII: The Last Jedi</td>\n",
       "      <td>$317,000,000</td>\n",
       "      <td>$620,181,382</td>\n",
       "      <td>$1,316,721,747</td>\n",
       "    </tr>\n",
       "  </tbody>\n",
       "</table>\n",
       "</div>"
      ],
      "text/plain": [
       "   id  release_date                                        movie  \\\n",
       "0   1  Dec 18, 2009                                       Avatar   \n",
       "1   2  May 20, 2011  Pirates of the Caribbean: On Stranger Tides   \n",
       "2   3   Jun 7, 2019                                 Dark Phoenix   \n",
       "3   4   May 1, 2015                      Avengers: Age of Ultron   \n",
       "4   5  Dec 15, 2017            Star Wars Ep. VIII: The Last Jedi   \n",
       "\n",
       "  production_budget domestic_gross worldwide_gross  \n",
       "0      $425,000,000   $760,507,625  $2,776,345,279  \n",
       "1      $410,600,000   $241,063,875  $1,045,663,875  \n",
       "2      $350,000,000    $42,762,350    $149,762,350  \n",
       "3      $330,600,000   $459,005,868  $1,403,013,963  \n",
       "4      $317,000,000   $620,181,382  $1,316,721,747  "
      ]
     },
     "execution_count": 7,
     "metadata": {},
     "output_type": "execute_result"
    }
   ],
   "source": [
    "TheNumbers.head()"
   ]
  },
  {
   "cell_type": "code",
   "execution_count": 8,
   "metadata": {},
   "outputs": [
    {
     "name": "stdout",
     "output_type": "stream",
     "text": [
      "<class 'pandas.core.frame.DataFrame'>\n",
      "RangeIndex: 5782 entries, 0 to 5781\n",
      "Data columns (total 6 columns):\n",
      " #   Column             Non-Null Count  Dtype \n",
      "---  ------             --------------  ----- \n",
      " 0   id                 5782 non-null   int64 \n",
      " 1   release_date       5782 non-null   object\n",
      " 2   movie              5782 non-null   object\n",
      " 3   production_budget  5782 non-null   object\n",
      " 4   domestic_gross     5782 non-null   object\n",
      " 5   worldwide_gross    5782 non-null   object\n",
      "dtypes: int64(1), object(5)\n",
      "memory usage: 271.2+ KB\n"
     ]
    }
   ],
   "source": [
    "TheNumbers.info()"
   ]
  },
  {
   "cell_type": "markdown",
   "metadata": {},
   "source": [
    "**Discovery**\n",
    "\n",
    "All entries in this dataset are non-null. However, all values are strings, so may need to be changed to be usable\n",
    "\n",
    "**How this data might be used**\n",
    "\n",
    "Use to evaluate and compare different financial information across movies, and aggregate with other information from different datasets"
   ]
  },
  {
   "cell_type": "markdown",
   "metadata": {},
   "source": [
    "### IMDB database"
   ]
  },
  {
   "cell_type": "code",
   "execution_count": 9,
   "metadata": {},
   "outputs": [],
   "source": [
    "query = '''\n",
    "SELECT\n",
    "    *\n",
    "FROM\n",
    "    movie_basics\n",
    "--LIMIT 15\n",
    "    '''"
   ]
  },
  {
   "cell_type": "code",
   "execution_count": null,
   "metadata": {},
   "outputs": [],
   "source": [
    "movie_basics = pd.read_sql('''SELECT * ''', conn)\n",
    "movie_basics"
   ]
  },
  {
   "cell_type": "code",
   "execution_count": null,
   "metadata": {},
   "outputs": [],
   "source": [
    "movie_basics.info()"
   ]
  },
  {
   "cell_type": "code",
   "execution_count": null,
   "metadata": {},
   "outputs": [],
   "source": [
    "query = '''\n",
    "SELECT\n",
    "    *\n",
    "FROM\n",
    "    movie_ratings\n",
    "--LIMIT 15\n",
    "    '''"
   ]
  },
  {
   "cell_type": "code",
   "execution_count": null,
   "metadata": {},
   "outputs": [],
   "source": [
    "movie_ratings = pd.read_sql(query, conn)\n",
    "movie_ratings"
   ]
  },
  {
   "cell_type": "code",
   "execution_count": null,
   "metadata": {},
   "outputs": [],
   "source": [
    "movie_ratings.info()"
   ]
  },
  {
   "cell_type": "code",
   "execution_count": null,
   "metadata": {},
   "outputs": [],
   "source": [
    "query = '''\n",
    "SELECT\n",
    "    *\n",
    "FROM\n",
    "    principals\n",
    "--LIMIT 15\n",
    "    '''"
   ]
  },
  {
   "cell_type": "code",
   "execution_count": null,
   "metadata": {},
   "outputs": [],
   "source": [
    "principals = pd.read_sql(query, conn)\n",
    "principals"
   ]
  },
  {
   "cell_type": "code",
   "execution_count": null,
   "metadata": {},
   "outputs": [],
   "source": [
    "principals.info()"
   ]
  },
  {
   "cell_type": "markdown",
   "metadata": {},
   "source": [
    "**Discovery**\n",
    "\n",
    "This database contains a lot of data about movies that may help identify them, like id, title, release date, actors/directors, etc.\n",
    "\n",
    "**How this data might be used**\n",
    "\n",
    "It looks like this imdb database will be helpful for finding all movies from certain directors, or other such asks, but won't be as helpful for finding direct answers to our business questions."
   ]
  },
  {
   "cell_type": "markdown",
   "metadata": {},
   "source": [
    "## Data Preparation\n",
    "\n",
    "Describe and justify the process for preparing the data for analysis.\n",
    "\n",
    "***\n",
    "Questions to consider:\n",
    "* Were there variables you dropped or created?\n",
    "* How did you address missing values or outliers?\n",
    "* Why are these choices appropriate given the data and the business problem?\n",
    "***"
   ]
  },
  {
   "cell_type": "markdown",
   "metadata": {},
   "source": [
    "**Cleaning data in TheNumbers**\n",
    "\n",
    "TheNumbers represents our financial data we will use to analyze relationships between other variables and metrics derived from Gross revenue like profit, ROI, etc."
   ]
  },
  {
   "cell_type": "markdown",
   "metadata": {},
   "source": [
    "The following code converts dollar amounts to integer types within the database so they can be manipulated as numbers"
   ]
  },
  {
   "cell_type": "code",
   "execution_count": null,
   "metadata": {},
   "outputs": [],
   "source": [
    "punct = '$,'   # `|` is not present here\n",
    "money_to_num = str.maketrans(dict.fromkeys(punct, ''))\n",
    "\n",
    "#stripping dollar-sign and commas from relevant objects\n",
    "TheNumbers['worldwide_gross'] = '|'.join(TheNumbers['worldwide_gross'].tolist()).translate(money_to_num).split('|')\n",
    "TheNumbers['domestic_gross'] = '|'.join(TheNumbers['domestic_gross'].tolist()).translate(money_to_num).split('|')\n",
    "TheNumbers['production_budget'] = '|'.join(TheNumbers['production_budget'].tolist()).translate(money_to_num).split('|')\n",
    "#converting number strings to int64 types\n",
    "TheNumbers['worldwide_gross'] = TheNumbers['worldwide_gross'].astype(np.int64)\n",
    "TheNumbers['domestic_gross'] = TheNumbers['domestic_gross'].astype(np.int64)\n",
    "TheNumbers['production_budget'] = TheNumbers['production_budget'].astype(np.int64)"
   ]
  },
  {
   "cell_type": "markdown",
   "metadata": {},
   "source": [
    "The following code creates metrics that measure Profit, Profit Margin, and ROI, given the information in TheNumbers dataset about Production Budget and Gross Domestic and Worldwide. We will use these metrics to evaluate and compare a film's profitability and the efficiency of an investment, which is more useful information than the Production Budget or Gross Revenue alone when we are seeking to explore factors that contribute to profitability. "
   ]
  },
  {
   "cell_type": "code",
   "execution_count": null,
   "metadata": {},
   "outputs": [],
   "source": [
    "#created variables for domestic profit, worldwide profit, domestic & worldwide profit margins (profit/gross)\n",
    "#and domestic & worldwide ROIs (profit-production budget)\n",
    "TheNumbers['domestic_profit'] = TheNumbers['domestic_gross'] - TheNumbers['production_budget']\n",
    "TheNumbers['worldwide_profit'] = TheNumbers['worldwide_gross'] - TheNumbers['production_budget']\n",
    "TheNumbers['domestic_margin'] = TheNumbers['domestic_profit'] / TheNumbers['domestic_gross']\n",
    "TheNumbers['worldwide_margin'] = TheNumbers['worldwide_profit'] / TheNumbers['worldwide_gross']\n",
    "TheNumbers['domestic_roi'] = TheNumbers['domestic_profit'] / TheNumbers['production_budget']\n",
    "TheNumbers['worldwide_roi'] = TheNumbers['worldwide_profit'] / TheNumbers['production_budget']"
   ]
  },
  {
   "cell_type": "markdown",
   "metadata": {},
   "source": [
    "The following code returns numbers rather than strings for release dates, so that this data can be more easily explored later "
   ]
  },
  {
   "cell_type": "code",
   "execution_count": null,
   "metadata": {},
   "outputs": [],
   "source": [
    "#Normalize release dates as numbers (original dataset had month names)\n",
    "TheNumbers['release_date'] = pd.to_datetime(TheNumbers['release_date'])\n",
    "#Creates new column in datset that approximates to calendar month and day as we seek to explore relationship \n",
    "#between calendar dates and revenue \n",
    "TheNumbers['calendar_day'] = TheNumbers['release_date'].astype(str).str.strip().str[-5:]\n",
    "#Creates a function that assigns calendar day strings to a number. There is probably a simpler way to do this\n",
    "def getdaynum(cal_day):\n",
    "    day_list = []\n",
    "    for entry in cal_day:\n",
    "        if entry[:2] == '01':\n",
    "            day_list.append(int(entry[3:]))\n",
    "        elif entry[:2] == '02':\n",
    "            day_list.append(int(entry[3:]) + 31)\n",
    "        elif entry[:2] == '03':\n",
    "            day_list.append(int(entry[3:]) + 60)\n",
    "        elif entry[:2] == '04':\n",
    "            day_list.append(int(entry[3:]) + 91)\n",
    "        elif entry[:2] == '05':\n",
    "            day_list.append(int(entry[3:]) + 122)\n",
    "        elif entry[:2] == '06':\n",
    "            day_list.append(int(entry[3:]) + 152)\n",
    "        elif entry[:2] == '07':\n",
    "            day_list.append(int(entry[3:]) + 182)\n",
    "        elif entry[:2] == '08':\n",
    "            day_list.append(int(entry[3:]) + 213)\n",
    "        elif entry[:2] == '09':\n",
    "            day_list.append(int(entry[3:]) + 244)\n",
    "        elif entry[:2] == '10':\n",
    "            day_list.append(int(entry[3:]) + 274)\n",
    "        elif entry[:2] == '11':\n",
    "            day_list.append(int(entry[3:]) + 305)\n",
    "        elif entry[:2] == '12':\n",
    "            day_list.append(int(entry[3:]) + 335)\n",
    "    return pd.Series(day_list)\n",
    "#creates new column in dataset for integer values of days\n",
    "TheNumbers['release_day_num'] = getdaynum(TheNumbers['calendar_day'])"
   ]
  },
  {
   "cell_type": "markdown",
   "metadata": {},
   "source": [
    "**Creating dataframe to analyze IMDB data with corresponding columns from TheNumbers**\n",
    "\n",
    "The following code creates a dataframe that takes all of the production_budget info in from TheNumbers, and then is able to assign genres from IMDB. Connect the movie names to their genres in order to explore relationships between genre and financial performance. Groups the genres and chart vs total budget, profit, margins"
   ]
  },
  {
   "cell_type": "code",
   "execution_count": null,
   "metadata": {},
   "outputs": [],
   "source": [
    "query = '''\n",
    "SELECT\n",
    "    primary_title,\n",
    "    genres,\n",
    "    start_year\n",
    "FROM\n",
    "    movie_basics\n",
    "    '''\n",
    "movie_genre = pd.read_sql(query, conn)"
   ]
  },
  {
   "cell_type": "markdown",
   "metadata": {},
   "source": [
    "Clean genres into a list. Set movie name as index."
   ]
  },
  {
   "cell_type": "code",
   "execution_count": null,
   "metadata": {},
   "outputs": [],
   "source": [
    "movie_genre['genres_list'] = movie_genre['genres'].str.split()"
   ]
  },
  {
   "cell_type": "markdown",
   "metadata": {},
   "source": [
    "Some movies have identical names. Make a new 'name_year' column to join on for both datasets."
   ]
  },
  {
   "cell_type": "code",
   "execution_count": null,
   "metadata": {},
   "outputs": [],
   "source": [
    "movie_genre['name_year'] = movie_genre['primary_title'] + movie_genre['start_year'].apply(str)\n",
    "# TheNumbers['release_date'] is a datetime64[ns]\n",
    "year = TheNumbers['release_date'].dt.year\n",
    "TheNumbers['name_year'] = TheNumbers['movie']+ TheNumbers['release_date'].dt.strftime('%Y')\n",
    "# Set name_year as index\n",
    "movie_genre.set_index('name_year', inplace=True)\n",
    "# Remove movies without genre\n",
    "movie_genre.dropna(subset=['genres_list'], inplace=True)"
   ]
  },
  {
   "cell_type": "markdown",
   "metadata": {},
   "source": [
    "Join movie_genre with TheNumbers"
   ]
  },
  {
   "cell_type": "code",
   "execution_count": null,
   "metadata": {},
   "outputs": [],
   "source": [
    "money_genre = TheNumbers.join(movie_genre, on='name_year', how = 'inner')"
   ]
  },
  {
   "cell_type": "markdown",
   "metadata": {},
   "source": [
    "**Some additional cleaning and outlier removal for genres**"
   ]
  },
  {
   "cell_type": "markdown",
   "metadata": {},
   "source": [
    "Some movies had value 0 for domestic and worldwide gross, we chose to ignore them as they would skew data for movies that were shown in theaters"
   ]
  },
  {
   "cell_type": "code",
   "execution_count": null,
   "metadata": {},
   "outputs": [],
   "source": [
    "money_genre = money_genre[(money_genre.domestic_gross != 0) & (money_genre.worldwide_gross != 0)]"
   ]
  },
  {
   "cell_type": "markdown",
   "metadata": {},
   "source": [
    "Some movies are listed with multiple genres. We wanted to explore the the trends between a unique genre type and financial performance, so we got all unique genres and put them in a dictionary with the count of how often each appeared in the original dataset."
   ]
  },
  {
   "cell_type": "code",
   "execution_count": null,
   "metadata": {},
   "outputs": [],
   "source": [
    "genres = money_genre['genres'].unique().tolist()\n",
    "unique_genres = []\n",
    "for x in genres:\n",
    "    templist = x.split(\",\")\n",
    "    for y in templist:\n",
    "        unique_genres.append(y)\n",
    "unique_genres = list(set(unique_genres))\n",
    "# genres_df is dict where key = genre, value = df of movies with that genre\n",
    "genres_df = {x: money_genre[money_genre.genres.str.contains(x)] for x in unique_genres}"
   ]
  },
  {
   "cell_type": "markdown",
   "metadata": {},
   "source": [
    "**Creating dataframes to analyze Actor and Director data with corresponding columns from TheNumbers**\n",
    "\n",
    "Much like we did for genre, we want to explore relationships between actors and the financial performance of the movies they appear in, so we create and merge this dataframe"
   ]
  },
  {
   "cell_type": "code",
   "execution_count": null,
   "metadata": {},
   "outputs": [],
   "source": [
    "# joined tables: movie_basics and persons to principals, selected only the matching records.\n",
    "actors = pd.read_sql(\n",
    "\"\"\"\n",
    "SELECT\n",
    "    category,\n",
    "    pr.movie_id,\n",
    "    pr.person_id,\n",
    "    primary_name,\n",
    "    primary_title \n",
    "FROM \n",
    "    principals AS pr\n",
    "JOIN\n",
    "    movie_basics AS mb using(movie_id)\n",
    "JOIN\n",
    "    persons AS pe using(person_id)\n",
    "WHERE\n",
    "    category = 'actor'\n",
    "    or\n",
    "    category = 'actress'\n",
    "    or\n",
    "    category = 'self'\n",
    "\"\"\",conn)\n",
    "actors"
   ]
  },
  {
   "cell_type": "code",
   "execution_count": null,
   "metadata": {},
   "outputs": [],
   "source": [
    "# merging \"actors\" DataFrame (extracted from \"IMDB\") with \"TheNumbers\" DataFrame on 'primary_title' and 'movie'\n",
    "actors_df = pd.merge(actors,\n",
    "                  TheNumbers,\n",
    "                  left_on='primary_title',\n",
    "                  right_on='movie')\n",
    "\n",
    "actors_df"
   ]
  },
  {
   "cell_type": "code",
   "execution_count": null,
   "metadata": {},
   "outputs": [],
   "source": [
    "# joined tables: movie_basics and persons to principals, selected only the matching records.\n",
    "directors = pd.read_sql(\n",
    "\"\"\"\n",
    "SELECT\n",
    "    category,\n",
    "    pr.movie_id,\n",
    "    pr.person_id,\n",
    "    primary_name,\n",
    "    primary_title \n",
    "FROM \n",
    "    principals AS pr\n",
    "JOIN\n",
    "    movie_basics AS mb using(movie_id)\n",
    "JOIN\n",
    "    persons AS pe using(person_id)\n",
    "WHERE\n",
    "    category = 'director'\n",
    "\"\"\",conn)\n",
    "directors"
   ]
  },
  {
   "cell_type": "code",
   "execution_count": null,
   "metadata": {},
   "outputs": [],
   "source": [
    "# merging \"diretors\" DataFrame (extracted from \"IMDB\") with \"TheNumbers\" DataFrame on 'primary_title' and 'movie'\n",
    "directors_df = pd.merge(directors,\n",
    "                  TheNumbers,\n",
    "                  left_on='primary_title',\n",
    "                  right_on='movie')\n",
    "\n",
    "directors_df"
   ]
  },
  {
   "cell_type": "markdown",
   "metadata": {},
   "source": [
    "We first cleaned the data. Many movies share genres so we needed to create an additional feature of 'movie name' + 'year released'. We could then join the movies\n",
    "on these columns.\n",
    "After joining the data, we were able to find relationships between genre, actors/directors, budget and release date versus worldwide profit.\n",
    "\n",
    "***\n",
    "Notes:\n",
    "* This data required some standard cleaning to use, such as cleaning up dollar amounts from strings to integers and excluding duplicates.\n",
    "For our inital modeling we used standard methods of graphing data, and then breaking up data by actors/directors or genres.\n",
    "* This approach is appropriate considering the size of the datasets. Our business problem did not have specific asks,\n",
    "only to provide the best advice that we can find with these datasets.\n",
    "***"
   ]
  },
  {
   "cell_type": "markdown",
   "metadata": {},
   "source": [
    "## Data Modeling\n",
    "Describe and justify the process for analyzing or modeling the data.\n",
    "\n",
    "***\n",
    "Questions to consider:\n",
    "* How did you analyze or model the data?\n",
    "* How did you iterate on your initial approach to make it better?\n",
    "* Why are these choices appropriate given the data and the business problem?\n",
    "***"
   ]
  },
  {
   "cell_type": "markdown",
   "metadata": {},
   "source": [
    "### Exploratory data analyses"
   ]
  },
  {
   "cell_type": "markdown",
   "metadata": {},
   "source": [
    "**Looking at relationships between variables in TheNumbers**\n",
    "\n",
    "We performed various analyses to try to learn which variables seemed to have a strong relationship relationship, in order to determine which trends to dig into and offer as recommendations"
   ]
  },
  {
   "cell_type": "code",
   "execution_count": null,
   "metadata": {},
   "outputs": [],
   "source": [
    "# plot of budget v worldwide gross\n",
    "fig, ax = plt.subplots()\n",
    "\n",
    "\n",
    "plt.scatter(TheNumbers['production_budget'], TheNumbers['worldwide_gross'])\n",
    "\n",
    "\n",
    "ax.set_xlabel('Production Budget')\n",
    "ax.set_ylabel('Worldiwde Gross')\n",
    "\n",
    "# Add a title for the plot\n",
    "ax.set_title('Budget v Worldwide Gross')\n",
    "\n",
    "# Add a legend to the plot with legend() in lower right corner\n",
    "#ax.legend([\"Sample Data\"], loc=4);"
   ]
  },
  {
   "cell_type": "code",
   "execution_count": null,
   "metadata": {},
   "outputs": [],
   "source": [
    "#correlation between production budget and worldwide gross\n",
    "TheNumbers['production_budget'].corr(TheNumbers['worldwide_gross'])"
   ]
  },
  {
   "cell_type": "markdown",
   "metadata": {},
   "source": [
    "This was the strongest correlation that we found among TheNumbers data. This suggests that how much money is invested in a movie goes a long way toward determining how many people go to see it. This fundamental assumption becomes a guide for much of the analysis that follows"
   ]
  },
  {
   "cell_type": "code",
   "execution_count": null,
   "metadata": {},
   "outputs": [],
   "source": [
    "#plot of budget v domestic ROI\n",
    "fig, ax = plt.subplots()\n",
    "\n",
    "\n",
    "plt.scatter(TheNumbers['production_budget'], TheNumbers['domestic_roi'])\n",
    "\n",
    "\n",
    "ax.set_xlabel('Production Budget')\n",
    "ax.set_ylabel('Domestic ROI')\n",
    "\n",
    "# Add a title for the plot\n",
    "ax.set_title('Budget v Domestic ROI')\n",
    "\n",
    "# Add a legend to the plot with legend() in lower right corner\n",
    "#ax.legend([\"Sample Data\"], loc=4);"
   ]
  },
  {
   "cell_type": "code",
   "execution_count": null,
   "metadata": {},
   "outputs": [],
   "source": [
    "#correlation between production budget and worldwide ROI\n",
    "TheNumbers['production_budget'].corr(TheNumbers['worldwide_roi'])"
   ]
  },
  {
   "cell_type": "markdown",
   "metadata": {},
   "source": [
    "This relationship appears to be related negatively across an exponential function. This prompted questions about what makes a movie profit at the highest rate, and about which movies are the best investments"
   ]
  },
  {
   "cell_type": "code",
   "execution_count": null,
   "metadata": {},
   "outputs": [],
   "source": [
    "low_bucket = TheNumbers.loc[TheNumbers['production_budget'] < 5000000 ]\n",
    "mid_bucket = TheNumbers.loc[(TheNumbers['production_budget'] <= 50000000) & (TheNumbers['production_budget'] > 5000000)]\n",
    "high_bucket = TheNumbers.loc[TheNumbers['production_budget'] > 50000000 ]"
   ]
  },
  {
   "cell_type": "code",
   "execution_count": null,
   "metadata": {},
   "outputs": [],
   "source": [
    "fig, ax = plt.subplots()\n",
    "\n",
    "\n",
    "plt.hist(TheNumbers['production_budget'])\n",
    "\n",
    "\n",
    "ax.set_xlabel('Production Budget')\n",
    "\n",
    "# Add a title for the plot\n",
    "ax.set_title('Production budget')\n",
    "\n",
    "# Add a legend to the plot with legend() in lower right corner\n",
    "#ax.legend([\"Sample Data\"], loc=4);"
   ]
  },
  {
   "cell_type": "markdown",
   "metadata": {},
   "source": [
    "Based upon the analysis above, we hypothesized that budget would have a significant effect on performance metrics like total revenue generated and ROI. For that reason, we created categories to analyze movies within and also compare trends across categories. The boundaries of the categories were informed by this blog post (https://www.studiobinder.com/blog/production-budget/) and the fit was checked with our data to make sure it was a logical distinction to create"
   ]
  },
  {
   "cell_type": "code",
   "execution_count": null,
   "metadata": {},
   "outputs": [],
   "source": [
    "#defines function that returns Average Gross for release date\n",
    "def avg_gross_by_day(day):\n",
    "    return TheNumbers.loc[TheNumbers['release_day_num'] == day]['worldwide_gross'].sum()/len(TheNumbers.loc[TheNumbers['release_day_num'] == day])"
   ]
  },
  {
   "cell_type": "code",
   "execution_count": null,
   "metadata": {},
   "outputs": [],
   "source": [
    "fig, ax = plt.subplots()\n",
    "\n",
    "plt.scatter(TheNumbers['release_day_num'], TheNumbers['worldwide_gross'], label='raw')\n",
    "plt.scatter(range(1,367), [avg_gross_by_day(day) for day in range(1,367)], label='avg')\n",
    "\n",
    "ax.set_xlabel('Calendar Day')\n",
    "ax.set_ylabel('Worldwide Gross')\n",
    "\n",
    "# Add a title for the plot\n",
    "ax.set_title('Calender Day v Worldwide gross')\n",
    "\n",
    "# Add a legend to the plot with legend() in lower right corner\n",
    "plt.legend(loc='upper left')\n",
    "plt.show()"
   ]
  },
  {
   "cell_type": "markdown",
   "metadata": {},
   "source": [
    "We measured gross here rather than profit to determine movies with which release days would people go to see the most. If we had measured profit instead, we would have measured movie-going in relation to the budget of movies released on those release days. Because moviegoing patterns were what we wanted to learn from this data, gross was the appropriate measure here.\n",
    "\n",
    "Measuring by individual release day allows us to see trends around certain periods of the year, and isolate days that perform unusually well each year (e.g. Christmas Eve). Unfortunately, it is not as easily interpretted as other formatting of similar data."
   ]
  },
  {
   "cell_type": "markdown",
   "metadata": {},
   "source": [
    "## Evaluation\n",
    "Evaluate how well your work solves the stated business problem.\n",
    "\n",
    "***\n",
    "Questions to consider:\n",
    "* How do you interpret the results?\n",
    "* How well does your model fit your data? How much better is this than your baseline model?\n",
    "* How confident are you that your results would generalize beyond the data you have?\n",
    "* How confident are you that this model would benefit the business if put into use?\n",
    "***"
   ]
  },
  {
   "cell_type": "code",
   "execution_count": null,
   "metadata": {},
   "outputs": [],
   "source": [
    "#graph of budget vs profit for high bucket\n",
    "fig, ax = plt.subplots()\n",
    "\n",
    "ax.scatter(low_bucket['production_budget'], low_bucket['worldwide_profit'], label = 'low')\n",
    "ax.scatter(mid_bucket['production_budget'], mid_bucket['worldwide_profit'], label = 'mid')\n",
    "ax.scatter(high_bucket['production_budget'], high_bucket['worldwide_profit'], label = 'high')\n",
    "\n",
    "\n",
    "ax.set_xlabel('Production Budget (in hundred millions)')\n",
    "ax.set_ylabel('Worldwide Profit (in billions)')\n",
    "\n",
    "# Add a title for the plot\n",
    "ax.set_title('Budget v Worldwide Profit')\n",
    "\n",
    "x1 = low_bucket['production_budget']\n",
    "y1 = low_bucket['worldwide_profit']\n",
    "x2 = mid_bucket['production_budget']\n",
    "y2 = mid_bucket['worldwide_profit']\n",
    "x3 = high_bucket['production_budget']\n",
    "y3 = high_bucket['worldwide_profit']\n",
    "\n",
    "plt.plot(np.unique(x1), np.poly1d(np.polyfit(x1, y1, 1))(np.unique(x1)), color= 'red')\n",
    "plt.plot(np.unique(x2), np.poly1d(np.polyfit(x2, y2, 1))(np.unique(x2)), color= 'red')\n",
    "plt.plot(np.unique(x3), np.poly1d(np.polyfit(x3, y3, 1))(np.unique(x3)), color= 'red')\n",
    "\n",
    "plt.legend(loc='upper left')\n",
    "plt.show()"
   ]
  },
  {
   "cell_type": "markdown",
   "metadata": {},
   "source": [
    "Line of fit here indicates the correlation between budget and profit across budget categories. We find that budget of high budget films correlates moderately to profit, and at a much greater rate than for low- and mid-budget films. Because of this, we feel that high-budget films are the most predictable investment to make, and would favor them. Also would favor them for the sheer magnitude of profit that they generate, which is much greater than low- or mid-budget films."
   ]
  },
  {
   "cell_type": "code",
   "execution_count": null,
   "metadata": {},
   "outputs": [],
   "source": [
    "fig, ax = plt.subplots()\n",
    "\n",
    "plt.bar('low', (sum(low_bucket['worldwide_gross']) - sum(low_bucket['production_budget'])) / sum(low_bucket['production_budget']))\n",
    "plt.bar('mid', (sum(mid_bucket['worldwide_gross']) - sum(mid_bucket['production_budget'])) / sum(mid_bucket['production_budget']))\n",
    "plt.bar('high', (sum(high_bucket['worldwide_gross']) - sum(high_bucket['production_budget'])) / sum(high_bucket['production_budget']))\n",
    "\n",
    "\n",
    "ax.set_xlabel('Budget level')\n",
    "ax.set_ylabel('Average ROI')\n",
    "\n",
    "# Add a title for the plot\n",
    "ax.set_title('Budget v Average ROI')\n",
    "\n",
    "# Add a legend to the plot with legend() in lower right corner\n",
    "#ax.legend([\"Sample Data\"], loc=4);"
   ]
  },
  {
   "cell_type": "markdown",
   "metadata": {},
   "source": [
    "This graph compares average ROI by film across budget levels.\n",
    "\n",
    "Findings were surprising here, to see that ROI was greater on average for high- than mid-budget films. Though we would have predicted that low-budget films had the highest ROI, based on the earlier graph of budget and ROI. This analysis leads us to believe that low-budget films are the most efficient investments to make, as they return revenue per their investment at a higher rate than films from the other budget categories.\n",
    "\n",
    "Although we still favor high-budget films for their predictability and higher net profits, we would diversify those investments with many small budget films as well, which seem to return on investment at a significantly higher rate than mid- and high-budget films."
   ]
  },
  {
   "cell_type": "code",
   "execution_count": null,
   "metadata": {},
   "outputs": [],
   "source": [
    "fig, ax = plt.subplots()\n",
    "\n",
    "plt.bar(range(1,54), [avg_gross_by_day(day) for day in range(1,367,7)])\n",
    "plt.bar(51, [avg_gross_by_day(day) for day in range(346,353)], label='Christmas')\n",
    "plt.bar(47, [avg_gross_by_day(day) for day in range(318,325)], label = 'Thanksgiving')\n",
    "plt.bar(21, [avg_gross_by_day(day) for day in range(136,143)], label = 'Memorial Day')\n",
    "plt.bar(32, [avg_gross_by_day(day) for day in range(217,224)], label = 'Mid-August')\n",
    "\n",
    "\n",
    "ax.set_xlabel('Calendar Week')\n",
    "ax.set_ylabel('Avg Worldwide Gross (in hundred millions)')\n",
    "\n",
    "# Add a title for the plot\n",
    "ax.set_title('Release Date v Avg Worldwide Gross')\n",
    "\n",
    "# Add a legend to the plot with legend() in lower right corner\n",
    "ax.legend(loc='upper left');"
   ]
  },
  {
   "cell_type": "markdown",
   "metadata": {},
   "source": [
    "This graph plots average gross of release days within a week. This makes data more easily intreprettable, as well as adjusting for annual fluctuations like holidays that fall within a range of dates. It does obscur some of the highest performing days that were illustrated by the graph of average gross by release day, but captures very similar trends.\n",
    "\n",
    "This graph identifies the top 10 highest performing weeks (80+ percentile) of the calendar year all fall between either between June and mid-August, or the weeks that contain Thanksgiving and Christmas Eve. Based on this analysis, we identify those as the best times to release a movie, because people see movies with those release dates more than movies released at other times in the year, as a general trend."
   ]
  },
  {
   "cell_type": "code",
   "execution_count": null,
   "metadata": {},
   "outputs": [],
   "source": [
    "genres_corr = []\n",
    "for genre,frame in genres_df.items():\n",
    "    corr = frame['production_budget'].corr(frame['worldwide_profit'])\n",
    "    genres_corr.append(tuple((genre, corr)))\n",
    "#     print(f\"{genre}: has a corr of {corr}\")\n",
    "\n",
    "        \n",
    "# Sort list of tuples\n",
    "genres_corr.sort(key = lambda x: x[1], reverse=True)\n",
    "\n",
    "\n",
    "\n",
    "# Create list for genres, and list for corrs\n",
    "genres_corrx = [x[0] for x in genres_corr]\n",
    "genres_corry = [x[1] for x in genres_corr]\n",
    "\n",
    "# Slice top 5 options for clarity\n",
    "genres_corrx = genres_corrx[:5]\n",
    "genres_corry = genres_corry[:5]\n",
    "\n",
    "plt.bar(genres_corrx, genres_corry)\n",
    "plt.xticks(rotation=40, ha='right')\n",
    "plt.xlabel('Genre')\n",
    "plt.ylabel('Correlation of Budget and WWP')\n",
    "plt.title('Correlation of Budget and WWP per Genre(ALL BUDGETS)');"
   ]
  },
  {
   "cell_type": "markdown",
   "metadata": {},
   "source": [
    "This graph shows how well a movie's genre correlates with its overall profit. Because these genres correlate strongly with how well their films profitted, we would recommend them as good film genres to produce in general."
   ]
  },
  {
   "cell_type": "code",
   "execution_count": null,
   "metadata": {},
   "outputs": [],
   "source": [
    "# Group low/med/high budget genres\n",
    "# genres_df is dict where key = genre, value = df of movies with that genre\n",
    "genres_df_low = {x: money_genre[(money_genre.genres.str.contains(x)) & \n",
    "                                (money_genre.production_budget < 5000000)] for x in unique_genres}\n",
    "genres_df_med = {x: money_genre[(money_genre.genres.str.contains(x)) & \n",
    "                                (money_genre.production_budget > 5000000) & \n",
    "                                (money_genre.production_budget < 50000000)] for x in unique_genres}\n",
    "genres_df_high = {x: money_genre[(money_genre.genres.str.contains(x)) & \n",
    "                                (money_genre.production_budget > 50000000)] for x in unique_genres}"
   ]
  },
  {
   "cell_type": "markdown",
   "metadata": {},
   "source": [
    "We created this distinction to explore whether different genres performed better at certain budget levels."
   ]
  },
  {
   "cell_type": "code",
   "execution_count": null,
   "metadata": {},
   "outputs": [],
   "source": [
    "genres_corr_low = []\n",
    "for genre,frame in genres_df_low.items():\n",
    "    if len(frame.index) >= 3:\n",
    "        corr = frame['production_budget'].corr(frame['worldwide_profit'])\n",
    "        genres_corr_low.append(tuple((genre, corr)))\n",
    "#         print(f\"{genre}: {corr}\")\n",
    "    else:\n",
    "        print(f\"{genre} only had {len(frame.index)} movies.\")\n",
    "\n",
    "        \n",
    "# Sort list of tuples\n",
    "genres_corr_low.sort(key = lambda x: x[1], reverse=True)\n",
    "\n",
    "# Create list for genres, and list for corrs\n",
    "genres_corr_lowx = [x[0] for x in genres_corr_low]\n",
    "genres_corr_lowy = [x[1] for x in genres_corr_low]\n",
    "\n",
    "# Slice top 5 options for clarity\n",
    "genres_corr_lowx = genres_corr_lowx[:5]\n",
    "genres_corr_lowy = genres_corr_lowy[:5]\n",
    "\n",
    "plt.bar(genres_corr_lowx, genres_corr_lowy)\n",
    "plt.xticks(rotation=40, ha='right')\n",
    "plt.xlabel('Genre')\n",
    "plt.ylabel('Correlation of Budget and WWP')\n",
    "plt.title('Correlation of Budget and WWP per Genre(LOW BUDGET)');"
   ]
  },
  {
   "cell_type": "markdown",
   "metadata": {},
   "source": [
    "We found that 'Music' movies correlated moderately well with profit, with the highest correlation among low-budget genres, and would recommend it as a strong genre to produce low-budget films in."
   ]
  },
  {
   "cell_type": "code",
   "execution_count": null,
   "metadata": {},
   "outputs": [],
   "source": [
    "# Create list of tuples. [0]=genre, [1]=corr\n",
    "genres_corr_high = []\n",
    "for genre,frame in genres_df_high.items():\n",
    "    if len(frame.index) >= 3:\n",
    "        corr = frame['production_budget'].corr(frame['worldwide_profit'])\n",
    "        genres_corr_high.append(tuple((genre, corr)))\n",
    "#         print(f\"{genre}: {corr}\")\n",
    "    else:\n",
    "        print(f\"{genre} only had {len(frame.index)} movies.\")\n",
    "# Sort list of tuples\n",
    "genres_corr_high.sort(key = lambda x: x[1], reverse=True)\n",
    "# Create list for genres, and list for corrs\n",
    "genres_corr_highx = [x[0] for x in genres_corr_high]\n",
    "genres_corr_highy = [x[1] for x in genres_corr_high]\n",
    "\n",
    "# Slice top 5 options for clarity\n",
    "genres_corr_highx = genres_corr_highx[:5]\n",
    "genres_corr_highy = genres_corr_highy[:5]\n",
    "plt.bar(genres_corr_highx, genres_corr_highy)\n",
    "plt.xticks(rotation=40, ha='right')\n",
    "plt.xlabel('Genre')\n",
    "plt.ylabel('Correlation of Budget and WWP')\n",
    "plt.title('Correlation of Budget vs WWP per Genre(HIGH BUDGET)') ;"
   ]
  },
  {
   "cell_type": "markdown",
   "metadata": {},
   "source": [
    "We found that 'War' movies correlated very strongly to profit, with the highest correlation among high-budget genres, and would recommend it as a strong genre to produce high-budget films in.\n",
    "\n",
    "We did not include genre correlations in the mid-bucket as a final graph, in part because the correlations between genre and profit in that budget category were relatively low, and also because we found earlier that mid-budget movies produce the lowest ROI on average."
   ]
  },
  {
   "cell_type": "code",
   "execution_count": null,
   "metadata": {},
   "outputs": [],
   "source": [
    "# used value_counts to select only actors who appeared in at least 15 movies \n",
    "# by selecting only actors who appear in at least 15 movies we can provide a highly reliable average\n",
    "top_reliable_actors = actors_df.value_counts('primary_name').head(19)"
   ]
  },
  {
   "cell_type": "code",
   "execution_count": null,
   "metadata": {},
   "outputs": [],
   "source": [
    "# top_actors is now list of top_reliable_actors\n",
    "top_actors = top_reliable_actors.index.tolist()"
   ]
  },
  {
   "cell_type": "code",
   "execution_count": null,
   "metadata": {},
   "outputs": [],
   "source": [
    "# used worldwide_profit to find mean of each actor in top_actors\n",
    "avg_profit_of_movie_per_actor = []\n",
    "\n",
    "for actor in top_actors:\n",
    "    actor_filter = actors_df.loc[actors_df['primary_name'] == actor]\n",
    "    avg_profit_of_movie_per_actor.append(actor_filter.worldwide_profit.mean())"
   ]
  },
  {
   "cell_type": "code",
   "execution_count": null,
   "metadata": {},
   "outputs": [],
   "source": [
    "# new DataFrame for top actors and their relative average profit\n",
    "actor_profits_df = pd.DataFrame(list(zip(top_actors, avg_profit_of_movie_per_actor)),\n",
    "               columns =['top_actors', 'average_profits'])"
   ]
  },
  {
   "cell_type": "code",
   "execution_count": null,
   "metadata": {},
   "outputs": [],
   "source": [
    "# sorted DataFrame to be in descending order from highest average_profits\n",
    "actor_profits_df.sort_values(by='average_profits', inplace=True, ascending=False)"
   ]
  },
  {
   "cell_type": "code",
   "execution_count": null,
   "metadata": {},
   "outputs": [],
   "source": [
    "# used value_counts to select only directors who appeared in at least 5 movies \n",
    "# by selecting only directors who appear in at least 5 movies we can provide a highly reliable average\n",
    "top_reliable_directors = directors_df.value_counts('primary_name').head(28)"
   ]
  },
  {
   "cell_type": "code",
   "execution_count": null,
   "metadata": {},
   "outputs": [],
   "source": [
    "# top_directors is now list of top_reliable_directors\n",
    "top_directors = top_reliable_directors.index.tolist()"
   ]
  },
  {
   "cell_type": "code",
   "execution_count": null,
   "metadata": {},
   "outputs": [],
   "source": [
    "# used worldwide_profit to find mean of each director in top_directors\n",
    "avg_profit_of_movie_per_director = []\n",
    "\n",
    "for director in top_directors:\n",
    "    director_filter = directors_df.loc[directors_df['primary_name'] == director]\n",
    "    avg_profit_of_movie_per_director.append(director_filter.worldwide_profit.mean())"
   ]
  },
  {
   "cell_type": "code",
   "execution_count": null,
   "metadata": {},
   "outputs": [],
   "source": [
    "# new DataFrame for top directors and their relative average profit\n",
    "director_profits_df = pd.DataFrame(list(zip(top_directors, avg_profit_of_movie_per_director)),\n",
    "               columns =['top_directors', 'average_profits'])"
   ]
  },
  {
   "cell_type": "code",
   "execution_count": null,
   "metadata": {},
   "outputs": [],
   "source": [
    "# sorted DataFrame to be in descending order from highest average_profits\n",
    "director_profits_df.sort_values(by='average_profits', inplace=True, ascending=False)"
   ]
  },
  {
   "cell_type": "code",
   "execution_count": null,
   "metadata": {},
   "outputs": [],
   "source": [
    "# narrowed list down to top 10 for bar graph visual\n",
    "director_profits_df = director_profits_df.head(10)"
   ]
  },
  {
   "cell_type": "code",
   "execution_count": null,
   "metadata": {},
   "outputs": [],
   "source": [
    "Visualizing Potential Impact of Actor\n",
    "# horizontal bar graph to legibly present all names\n",
    "# formatted x ticks to million as mil, no decimals, included \"$\" \n",
    "# set appropriate labels, increased font size, reversed y axis\n",
    "\n",
    "fig, ax = plt.subplots(figsize=(9,9))\n",
    "\n",
    "\n",
    "x = 'average_profits'\n",
    "y = 'top_actors'\n",
    "\n",
    "ax.set_title(\"Actors with Highest Potential Profit\", fontsize=16)\n",
    "ax.set_xlabel(\"Average Profit Per Movie\", fontsize=14)\n",
    "ax.set_ylabel(\"Actors\", fontsize=14)\n",
    "\n",
    "ax.ticklabel_format(axis='x', style='plain')\n",
    "\n",
    "ax.barh(width=x, y=y, data=actor_profits_df)\n",
    "ax.invert_yaxis()\n",
    "\n",
    "ticks_loc = ax.get_xticks().tolist()\n",
    "ax.xaxis.set_major_locator(mticker.FixedLocator(ticks_loc))\n",
    "label_format = '{:,.0f}'\n",
    "ax.set_xticklabels([label_format.format(x) for x in ticks_loc])\n",
    "\n",
    "xlabels = ['${:,.0f}'.format(x) + ' mil' for x in ax.get_xticks()/1000000]\n",
    "ax.set_xticklabels(xlabels);"
   ]
  },
  {
   "cell_type": "markdown",
   "metadata": {},
   "source": [
    "We visualized top performing actors based on average profits for each of their films. Because these actors make movies that consistently profit well, we feel confident that they would be worth the investment and would boost the profits of a high-budget movie."
   ]
  },
  {
   "cell_type": "code",
   "execution_count": null,
   "metadata": {},
   "outputs": [],
   "source": [
    "# horizontal bar graph to legibly present all names\n",
    "# formatted x ticks to million as mil, no decimals, included \"$\" \n",
    "# set appropriate labels, increased font size, reversed y axis\n",
    "\n",
    "fig, ax = plt.subplots(figsize=(9,9))\n",
    "\n",
    "\n",
    "x = 'average_profits'\n",
    "y = 'top_directors'\n",
    "\n",
    "ax.set_title(\"Directors with Highest Potential Profit\", fontsize=16)\n",
    "ax.set_xlabel(\"Average Profit Per Movie\", fontsize=14)\n",
    "ax.set_ylabel(\"Directors\", fontsize=14)\n",
    "\n",
    "ax.ticklabel_format(axis='x', style='plain')\n",
    "\n",
    "ax.barh(width=x, y=y, data=director_profits_df)\n",
    "ax.invert_yaxis()\n",
    "\n",
    "\n",
    "ticks_loc = ax.get_xticks().tolist()\n",
    "ax.xaxis.set_major_locator(mticker.FixedLocator(ticks_loc))\n",
    "label_format = '{:,.0f}'\n",
    "ax.set_xticklabels([label_format.format(x) for x in ticks_loc])\n",
    "\n",
    "xlabels = ['${:,.0f}'.format(x) + ' mil' for x in ax.get_xticks()/1000000]\n",
    "ax.set_xticklabels(xlabels);"
   ]
  },
  {
   "cell_type": "markdown",
   "metadata": {},
   "source": [
    "We visualized top performing directors based on average profits for each of their films. Because these directors make movies that consistently profit well, we feel confident that they would be worth the investment and would boost the profits of a high-budget movie."
   ]
  },
  {
   "cell_type": "markdown",
   "metadata": {},
   "source": [
    "We found the following answers to the business questions:\n",
    "* Profits generally increase as budgets increase. ROI possibility is much greater for smaller budgets(over 100x) versus larger budgets(up to 15x).\n",
    "* Top actors/actresses/directors command greater profits.\n",
    "* For an unknown budget, musicals have the best correlation of budget to profits. For small/medium/large budgets, we recommend music/history/war genres accordingly.\n",
    "* June to August, Thanksgiving & Christmas have the greatest average movie revenue by release date.\n",
    "\n",
    "***\n",
    "Notes:\n",
    "* We found these results in our initial data analysis. We interpret these results as having a strong impact on a movie's profit.\n",
    "* We are fairly confident in our results, due to the size of the data and methods used. Although some outliers were still used in our conclusions,\n",
    "we have to include these outliers as they give us good data points to compare to other similar movies."
   ]
  },
  {
   "cell_type": "markdown",
   "metadata": {},
   "source": [
    "## Conclusions\n",
    "Provide your conclusions about the work you've done, including any limitations or next steps.\n",
    "\n",
    "***\n",
    "Questions to consider:\n",
    "* What would you recommend the business do as a result of this work?\n",
    "* What are some reasons why your analysis might not fully solve the business problem?\n",
    "* What else could you do in the future to improve this project?\n",
    "***"
   ]
  },
  {
   "cell_type": "markdown",
   "metadata": {},
   "source": [
    "We were able to find some strong commonalites between movies that do well, given a certain budget. We were also able to pinpoint optimal times to\n",
    "release a movie, and how actors/directors contribute to a movie's success.\n",
    "We were a bit limited by the datasets, as IMDB only provided data for movies from 2010 to 2018. This was 4 years ago, and so the data may be\n",
    "slightly outdated. Considering the span of movies covered, we still have good faith in this dataset and the conclusions we reached with the dataset."
   ]
  },
  {
   "cell_type": "markdown",
   "metadata": {},
   "source": [
    "Notes:\n",
    "* We would recommend the business follow our tips to maximize profit in a new movie studio. Although some of these tips may conflict\n",
    "(Dwayne Johnson in a musical?), following our general guidelines will help to maximize profit and reduce investment risk.\n",
    "* This analysis may not fully solve the business problem as it is a multifaceted problem. If the studio is looking for a higher-risk investment,\n",
    "we did not account for that. Our goal was to provide the most sound suggestion for profit maximization with minimal risk.\n",
    "* In the future, we could use more recent data to improve our observations. We would also like to look into promotional budgets to see how those may\n",
    "have affected the profit of the movie. It would also be interesting to see how to optimize a movie for various audiences with additional data."
   ]
  }
 ],
 "metadata": {
  "kernelspec": {
   "display_name": "Python 3 (ipykernel)",
   "language": "python",
   "name": "python3"
  },
  "language_info": {
   "codemirror_mode": {
    "name": "ipython",
    "version": 3
   },
   "file_extension": ".py",
   "mimetype": "text/x-python",
   "name": "python",
   "nbconvert_exporter": "python",
   "pygments_lexer": "ipython3",
   "version": "3.9.12"
  }
 },
 "nbformat": 4,
 "nbformat_minor": 4
}
