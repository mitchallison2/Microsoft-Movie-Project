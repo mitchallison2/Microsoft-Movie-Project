{
 "cells": [
  {
   "cell_type": "code",
   "execution_count": 775,
   "metadata": {},
   "outputs": [],
   "source": [
    "import matplotlib.pyplot as plt\n",
    "%matplotlib inline\n",
    "import pandas as pd\n",
    "import numpy as np\n",
    "import string\n",
    "import sqlite3\n",
    "import matplotlib.pyplot as plt\n",
    "import datetime\n",
    "from math import isnan\n",
    "conn = sqlite3.connect('./zippedData/im.db')\n",
    "TheNumbers = pd.read_csv('./zippedData/tn.movie_budgets.csv.gz')"
   ]
  },
  {
   "cell_type": "code",
   "execution_count": 776,
   "metadata": {},
   "outputs": [],
   "source": [
    "punct = '$,'   # `|` is not present here\n",
    "money_to_num = str.maketrans(dict.fromkeys(punct, ''))\n",
    "\n",
    "#stripping dollar-sign and commas from relevant objects\n",
    "TheNumbers['worldwide_gross'] = '|'.join(TheNumbers['worldwide_gross'].tolist()).translate(money_to_num).split('|')\n",
    "TheNumbers['domestic_gross'] = '|'.join(TheNumbers['domestic_gross'].tolist()).translate(money_to_num).split('|')\n",
    "TheNumbers['production_budget'] = '|'.join(TheNumbers['production_budget'].tolist()).translate(money_to_num).split('|')\n",
    "#converting number strings to int64 types\n",
    "TheNumbers['worldwide_gross'] = TheNumbers['worldwide_gross'].astype(np.int64)\n",
    "TheNumbers['domestic_gross'] = TheNumbers['domestic_gross'].astype(np.int64)\n",
    "TheNumbers['production_budget'] = TheNumbers['production_budget'].astype(np.int64)\n",
    "#convert release date to a datetime\n",
    "TheNumbers['release_date'] = pd.to_datetime(TheNumbers['release_date'])\n",
    "\n",
    "\n",
    "#created variables for domestic profit, worldwide profit, domestic & worldwide profit margins (profit/gross)\n",
    "TheNumbers['domestic_profit'] = TheNumbers['domestic_gross'] - TheNumbers['production_budget']\n",
    "TheNumbers['worldwide_profit'] = TheNumbers['worldwide_gross'] - TheNumbers['production_budget']\n",
    "TheNumbers['domestic_margin'] = TheNumbers['domestic_profit'] / TheNumbers['domestic_gross']\n",
    "TheNumbers['worldwide_margin'] = TheNumbers['worldwide_profit'] / TheNumbers['worldwide_gross']"
   ]
  },
  {
   "cell_type": "markdown",
   "metadata": {},
   "source": [
    "### New Metrics created for TheNumbers\n",
    "- domestic_profit\n",
    "- worldwide_profit\n",
    "- domestic_margin\n",
    "- worldwide_margin"
   ]
  },
  {
   "cell_type": "code",
   "execution_count": 777,
   "metadata": {},
   "outputs": [],
   "source": [
    "#created variables for domestic profit, worldwide profit, domestic & worldwide profit margins (profit/gross)\n",
    "TheNumbers['domestic_profit'] = TheNumbers['domestic_gross'] - TheNumbers['production_budget']\n",
    "TheNumbers['worldwide_profit'] = TheNumbers['worldwide_gross'] - TheNumbers['production_budget']\n",
    "TheNumbers['domestic_margin'] = TheNumbers['domestic_profit'] / TheNumbers['domestic_gross']\n",
    "TheNumbers['worldwide_margin'] = TheNumbers['worldwide_profit'] / TheNumbers['worldwide_gross']"
   ]
  },
  {
   "cell_type": "markdown",
   "metadata": {},
   "source": [
    "### Production budget vs genre\n",
    "- Create a dataframe that takes all of the production_budget info in from TheNumbers, and then is able to assign genres from IMDB. Connect the movie names to their genres.\n",
    "- Group the genres and chart vs total budget, profit, margins"
   ]
  },
  {
   "cell_type": "code",
   "execution_count": 778,
   "metadata": {
    "scrolled": true
   },
   "outputs": [],
   "source": [
    "query = '''\n",
    "SELECT\n",
    "    primary_title,\n",
    "    genres,\n",
    "    start_year\n",
    "FROM\n",
    "    movie_basics\n",
    "    '''\n",
    "movie_genre = pd.read_sql(query, conn)"
   ]
  },
  {
   "cell_type": "markdown",
   "metadata": {},
   "source": [
    "#### Clean genres into a list. Set movie name as index."
   ]
  },
  {
   "cell_type": "code",
   "execution_count": 779,
   "metadata": {},
   "outputs": [],
   "source": [
    "movie_genre['genres_list'] = movie_genre['genres'].str.split()"
   ]
  },
  {
   "cell_type": "markdown",
   "metadata": {},
   "source": [
    "#### Some movie's have identical names. Make a new 'name_year' column to join on for both datasets."
   ]
  },
  {
   "cell_type": "code",
   "execution_count": 780,
   "metadata": {},
   "outputs": [],
   "source": [
    "movie_genre['name_year'] = movie_genre['primary_title'] + movie_genre['start_year'].apply(str)"
   ]
  },
  {
   "cell_type": "code",
   "execution_count": 781,
   "metadata": {},
   "outputs": [],
   "source": [
    "# TheNumbers['release_date'] is a datetime64[ns]\n",
    "year = TheNumbers['release_date'].dt.year\n",
    "TheNumbers['name_year'] = TheNumbers['movie']+ TheNumbers['release_date'].dt.strftime('%Y')"
   ]
  },
  {
   "cell_type": "code",
   "execution_count": 782,
   "metadata": {
    "scrolled": true
   },
   "outputs": [
    {
     "data": {
      "text/html": [
       "<div>\n",
       "<style scoped>\n",
       "    .dataframe tbody tr th:only-of-type {\n",
       "        vertical-align: middle;\n",
       "    }\n",
       "\n",
       "    .dataframe tbody tr th {\n",
       "        vertical-align: top;\n",
       "    }\n",
       "\n",
       "    .dataframe thead th {\n",
       "        text-align: right;\n",
       "    }\n",
       "</style>\n",
       "<table border=\"1\" class=\"dataframe\">\n",
       "  <thead>\n",
       "    <tr style=\"text-align: right;\">\n",
       "      <th></th>\n",
       "      <th>primary_title</th>\n",
       "      <th>genres</th>\n",
       "      <th>start_year</th>\n",
       "      <th>genres_list</th>\n",
       "    </tr>\n",
       "    <tr>\n",
       "      <th>name_year</th>\n",
       "      <th></th>\n",
       "      <th></th>\n",
       "      <th></th>\n",
       "      <th></th>\n",
       "    </tr>\n",
       "  </thead>\n",
       "  <tbody>\n",
       "    <tr>\n",
       "      <th>Sunghursh2013</th>\n",
       "      <td>Sunghursh</td>\n",
       "      <td>Action,Crime,Drama</td>\n",
       "      <td>2013</td>\n",
       "      <td>[Action,Crime,Drama]</td>\n",
       "    </tr>\n",
       "    <tr>\n",
       "      <th>One Day Before the Rainy Season2019</th>\n",
       "      <td>One Day Before the Rainy Season</td>\n",
       "      <td>Biography,Drama</td>\n",
       "      <td>2019</td>\n",
       "      <td>[Biography,Drama]</td>\n",
       "    </tr>\n",
       "    <tr>\n",
       "      <th>The Other Side of the Wind2018</th>\n",
       "      <td>The Other Side of the Wind</td>\n",
       "      <td>Drama</td>\n",
       "      <td>2018</td>\n",
       "      <td>[Drama]</td>\n",
       "    </tr>\n",
       "    <tr>\n",
       "      <th>Sabse Bada Sukh2018</th>\n",
       "      <td>Sabse Bada Sukh</td>\n",
       "      <td>Comedy,Drama</td>\n",
       "      <td>2018</td>\n",
       "      <td>[Comedy,Drama]</td>\n",
       "    </tr>\n",
       "    <tr>\n",
       "      <th>The Wandering Soap Opera2017</th>\n",
       "      <td>The Wandering Soap Opera</td>\n",
       "      <td>Comedy,Drama,Fantasy</td>\n",
       "      <td>2017</td>\n",
       "      <td>[Comedy,Drama,Fantasy]</td>\n",
       "    </tr>\n",
       "  </tbody>\n",
       "</table>\n",
       "</div>"
      ],
      "text/plain": [
       "                                                       primary_title  \\\n",
       "name_year                                                              \n",
       "Sunghursh2013                                              Sunghursh   \n",
       "One Day Before the Rainy Season2019  One Day Before the Rainy Season   \n",
       "The Other Side of the Wind2018            The Other Side of the Wind   \n",
       "Sabse Bada Sukh2018                                  Sabse Bada Sukh   \n",
       "The Wandering Soap Opera2017                The Wandering Soap Opera   \n",
       "\n",
       "                                                   genres  start_year  \\\n",
       "name_year                                                               \n",
       "Sunghursh2013                          Action,Crime,Drama        2013   \n",
       "One Day Before the Rainy Season2019       Biography,Drama        2019   \n",
       "The Other Side of the Wind2018                      Drama        2018   \n",
       "Sabse Bada Sukh2018                          Comedy,Drama        2018   \n",
       "The Wandering Soap Opera2017         Comedy,Drama,Fantasy        2017   \n",
       "\n",
       "                                                genres_list  \n",
       "name_year                                                    \n",
       "Sunghursh2013                          [Action,Crime,Drama]  \n",
       "One Day Before the Rainy Season2019       [Biography,Drama]  \n",
       "The Other Side of the Wind2018                      [Drama]  \n",
       "Sabse Bada Sukh2018                          [Comedy,Drama]  \n",
       "The Wandering Soap Opera2017         [Comedy,Drama,Fantasy]  "
      ]
     },
     "execution_count": 782,
     "metadata": {},
     "output_type": "execute_result"
    }
   ],
   "source": [
    "# Set name_year as index\n",
    "movie_genre.set_index('name_year', inplace=True)"
   ]
  },
  {
   "cell_type": "code",
   "execution_count": 783,
   "metadata": {
    "scrolled": true
   },
   "outputs": [],
   "source": [
    "# Remove movies without genre\n",
    "movie_genre.dropna(subset=['genres_list'], inplace=True)"
   ]
  },
  {
   "cell_type": "markdown",
   "metadata": {},
   "source": [
    "#### Join movie_genre with TheNumbers"
   ]
  },
  {
   "cell_type": "code",
   "execution_count": 784,
   "metadata": {},
   "outputs": [],
   "source": [
    "money_genre = TheNumbers.join(movie_genre, on='name_year', how = 'inner')"
   ]
  },
  {
   "cell_type": "markdown",
   "metadata": {},
   "source": [
    "## Some additional cleaning and outlier removal"
   ]
  },
  {
   "cell_type": "markdown",
   "metadata": {},
   "source": [
    "#### Remove movies that had 0 domestic and worldwide gross "
   ]
  },
  {
   "cell_type": "code",
   "execution_count": 785,
   "metadata": {},
   "outputs": [],
   "source": [
    "money_genre = money_genre[(money_genre.domestic_gross != 0) & (money_genre.worldwide_gross != 0)]"
   ]
  },
  {
   "cell_type": "markdown",
   "metadata": {},
   "source": [
    "#### Get all unique genres"
   ]
  },
  {
   "cell_type": "code",
   "execution_count": 787,
   "metadata": {},
   "outputs": [],
   "source": [
    "genres = money_genre['genres'].unique().tolist()"
   ]
  },
  {
   "cell_type": "code",
   "execution_count": 788,
   "metadata": {},
   "outputs": [],
   "source": [
    "unique_genres = []\n",
    "for x in genres:\n",
    "    templist = x.split(\",\")\n",
    "    for y in templist:\n",
    "        unique_genres.append(y)\n",
    "unique_genres = list(set(unique_genres))"
   ]
  },
  {
   "cell_type": "code",
   "execution_count": 790,
   "metadata": {},
   "outputs": [],
   "source": [
    "# genres_df is dict where key = genre, value = df of movies with that genre\n",
    "genres_df = {x: money_genre[money_genre.genres.str.contains(x)] for x in unique_genres}"
   ]
  },
  {
   "cell_type": "markdown",
   "metadata": {},
   "source": [
    "## Chart production costs vs revenue for each genre\n",
    "#### Note:\n",
    "- The IMDB database only has movies since 2010. Any older movies are excluded.\n"
   ]
  },
  {
   "cell_type": "code",
   "execution_count": 792,
   "metadata": {
    "scrolled": false
   },
   "outputs": [
    {
     "data": {
      "image/png": "[encoded data removed]",
      "text/plain": [
       "<Figure size 432x288 with 1 Axes>"
      ]
     },
     "metadata": {
      "needs_background": "light"
     },
     "output_type": "display_data"
    }
   ],
   "source": [
    "fig = plt.figure()\n",
    "ax = plt.subplot(111)\n",
    "\n",
    "\n",
    "for genre,frame in genres_df.items():\n",
    "    ax = plt.scatter(frame['production_budget'], frame['worldwide_profit'], label=genre)\n",
    "\n",
    "# ax.legend()\n",
    "# ax.xlabel('production_budget')\n",
    "# ax.ylabel('worldwide_profit');"
   ]
  },
  {
   "cell_type": "code",
   "execution_count": 800,
   "metadata": {},
   "outputs": [
    {
     "data": {
      "text/plain": [
       "0.6528359616947517"
      ]
     },
     "execution_count": 800,
     "metadata": {},
     "output_type": "execute_result"
    }
   ],
   "source": [
    "money_genre['production_budget'].corr(money_genre['worldwide_profit'])"
   ]
  },
  {
   "cell_type": "markdown",
   "metadata": {},
   "source": [
    "With a corr of 0.653, we can see that spending more on a movie's budget generally leads to greater returns in the form of worldwide profit.\n",
    "\n",
    "I'd like to dig more into each genre, and each production cost bucket(low/med/high) to provide a single best answer for: \"What is the most likely profitable movie genre based on a given budget?\""
   ]
  },
  {
   "cell_type": "markdown",
   "metadata": {},
   "source": [
    "#### Find corr of production cost vs revenue for each genre\n",
    "- Note: outliers are not excluded"
   ]
  },
  {
   "cell_type": "code",
   "execution_count": 793,
   "metadata": {
    "scrolled": true
   },
   "outputs": [],
   "source": [
    "genres_corr = {}\n",
    "for genre,frame in genres_df.items():\n",
    "    corr = frame['production_budget'].corr(frame['worldwide_profit'])\n",
    "    genres_corr[genre] = corr\n",
    "#     print(f\"{genre}: has a corr of {corr}\")"
   ]
  },
  {
   "cell_type": "code",
   "execution_count": 795,
   "metadata": {
    "scrolled": true
   },
   "outputs": [
    {
     "data": {
      "image/png": "[encoded data removed]",
      "text/plain": [
       "<Figure size 432x288 with 1 Axes>"
      ]
     },
     "metadata": {
      "needs_background": "light"
     },
     "output_type": "display_data"
    }
   ],
   "source": [
    "plt.bar(genres_corr.keys(), genres_corr.values())\n",
    "plt.xticks(rotation='vertical')\n",
    "plt.xlabel('Genre')\n",
    "plt.ylabel('corr budget vs revenue')\n",
    "plt.title('Correlation of budget vs revenue per genre');"
   ]
  },
  {
   "cell_type": "code",
   "execution_count": 802,
   "metadata": {
    "scrolled": true
   },
   "outputs": [
    {
     "data": {
      "text/html": [
       "<div>\n",
       "<style scoped>\n",
       "    .dataframe tbody tr th:only-of-type {\n",
       "        vertical-align: middle;\n",
       "    }\n",
       "\n",
       "    .dataframe tbody tr th {\n",
       "        vertical-align: top;\n",
       "    }\n",
       "\n",
       "    .dataframe thead th {\n",
       "        text-align: right;\n",
       "    }\n",
       "</style>\n",
       "<table border=\"1\" class=\"dataframe\">\n",
       "  <thead>\n",
       "    <tr style=\"text-align: right;\">\n",
       "      <th></th>\n",
       "      <th>id</th>\n",
       "      <th>release_date</th>\n",
       "      <th>movie</th>\n",
       "      <th>production_budget</th>\n",
       "      <th>domestic_gross</th>\n",
       "      <th>worldwide_gross</th>\n",
       "      <th>domestic_profit</th>\n",
       "      <th>worldwide_profit</th>\n",
       "      <th>domestic_margin</th>\n",
       "      <th>worldwide_margin</th>\n",
       "      <th>name_year</th>\n",
       "      <th>primary_title</th>\n",
       "      <th>genres</th>\n",
       "      <th>start_year</th>\n",
       "      <th>genres_list</th>\n",
       "    </tr>\n",
       "  </thead>\n",
       "  <tbody>\n",
       "    <tr>\n",
       "      <th>134</th>\n",
       "      <td>35</td>\n",
       "      <td>2017-03-17</td>\n",
       "      <td>Beauty and the Beast</td>\n",
       "      <td>160000000</td>\n",
       "      <td>504014165</td>\n",
       "      <td>1259199706</td>\n",
       "      <td>344014165</td>\n",
       "      <td>1099199706</td>\n",
       "      <td>0.682549</td>\n",
       "      <td>0.872935</td>\n",
       "      <td>Beauty and the Beast2017</td>\n",
       "      <td>Beauty and the Beast</td>\n",
       "      <td>Family,Fantasy,Musical</td>\n",
       "      <td>2017</td>\n",
       "      <td>[Family,Fantasy,Musical]</td>\n",
       "    </tr>\n",
       "    <tr>\n",
       "      <th>50</th>\n",
       "      <td>51</td>\n",
       "      <td>2010-03-05</td>\n",
       "      <td>Alice in Wonderland</td>\n",
       "      <td>200000000</td>\n",
       "      <td>334191110</td>\n",
       "      <td>1025491110</td>\n",
       "      <td>134191110</td>\n",
       "      <td>825491110</td>\n",
       "      <td>0.401540</td>\n",
       "      <td>0.804971</td>\n",
       "      <td>Alice in Wonderland2010</td>\n",
       "      <td>Alice in Wonderland</td>\n",
       "      <td>Fantasy,Musical</td>\n",
       "      <td>2010</td>\n",
       "      <td>[Fantasy,Musical]</td>\n",
       "    </tr>\n",
       "    <tr>\n",
       "      <th>524</th>\n",
       "      <td>25</td>\n",
       "      <td>2017-12-20</td>\n",
       "      <td>The Greatest Showman</td>\n",
       "      <td>84000000</td>\n",
       "      <td>174340174</td>\n",
       "      <td>386665550</td>\n",
       "      <td>90340174</td>\n",
       "      <td>302665550</td>\n",
       "      <td>0.518183</td>\n",
       "      <td>0.782758</td>\n",
       "      <td>The Greatest Showman2017</td>\n",
       "      <td>The Greatest Showman</td>\n",
       "      <td>Biography,Drama,Musical</td>\n",
       "      <td>2017</td>\n",
       "      <td>[Biography,Drama,Musical]</td>\n",
       "    </tr>\n",
       "  </tbody>\n",
       "</table>\n",
       "</div>"
      ],
      "text/plain": [
       "     id release_date                 movie  production_budget  domestic_gross  \\\n",
       "134  35   2017-03-17  Beauty and the Beast          160000000       504014165   \n",
       "50   51   2010-03-05   Alice in Wonderland          200000000       334191110   \n",
       "524  25   2017-12-20  The Greatest Showman           84000000       174340174   \n",
       "\n",
       "     worldwide_gross  domestic_profit  worldwide_profit  domestic_margin  \\\n",
       "134       1259199706        344014165        1099199706         0.682549   \n",
       "50        1025491110        134191110         825491110         0.401540   \n",
       "524        386665550         90340174         302665550         0.518183   \n",
       "\n",
       "     worldwide_margin                 name_year         primary_title  \\\n",
       "134          0.872935  Beauty and the Beast2017  Beauty and the Beast   \n",
       "50           0.804971   Alice in Wonderland2010   Alice in Wonderland   \n",
       "524          0.782758  The Greatest Showman2017  The Greatest Showman   \n",
       "\n",
       "                      genres  start_year                genres_list  \n",
       "134   Family,Fantasy,Musical        2017   [Family,Fantasy,Musical]  \n",
       "50           Fantasy,Musical        2010          [Fantasy,Musical]  \n",
       "524  Biography,Drama,Musical        2017  [Biography,Drama,Musical]  "
      ]
     },
     "execution_count": 802,
     "metadata": {},
     "output_type": "execute_result"
    }
   ],
   "source": [
    "genres_df['Musical'].sort_values(['worldwide_profit'], ascending=False).head(3)"
   ]
  },
  {
   "cell_type": "markdown",
   "metadata": {},
   "source": [
    "#### Surprisingly, the musical genre has the greatest likelihood to convert budget to revenue."
   ]
  },
  {
   "cell_type": "markdown",
   "metadata": {},
   "source": [
    "We can now split every genre into low/med/high budget, and then graph their correlation of budget vs worldwide profit."
   ]
  },
  {
   "cell_type": "code",
   "execution_count": 803,
   "metadata": {},
   "outputs": [],
   "source": [
    "# Group low/med/high budget genres\n",
    "# genres_df is dict where key = genre, value = df of movies with that genre\n",
    "genres_df_low = {x: money_genre[(money_genre.genres.str.contains(x)) & \n",
    "                                (money_genre.production_budget < 5000000)] for x in unique_genres}\n",
    "genres_df_med = {x: money_genre[(money_genre.genres.str.contains(x)) & \n",
    "                                (money_genre.production_budget > 5000000) & \n",
    "                                (money_genre.production_budget < 50000000)] for x in unique_genres}\n",
    "genres_df_high = {x: money_genre[(money_genre.genres.str.contains(x)) & \n",
    "                                (money_genre.production_budget > 50000000)] for x in unique_genres}\n"
   ]
  },
  {
   "cell_type": "markdown",
   "metadata": {},
   "source": [
    "Creating correlations for every budget bucket.\n",
    "Note:\n",
    "- Some outliers have been filtered out.\n",
    "- Only genres with 3+ movies have been considered."
   ]
  },
  {
   "cell_type": "code",
   "execution_count": 804,
   "metadata": {
    "scrolled": true
   },
   "outputs": [
    {
     "name": "stdout",
     "output_type": "stream",
     "text": [
      "Musical only had 1 movies.\n",
      "Animation only had 1 movies.\n",
      "War only had 2 movies.\n",
      "History only had 1 movies.\n",
      "Western only had 2 movies.\n"
     ]
    },
    {
     "data": {
      "image/png": "[encoded data removed]",
      "text/plain": [
       "<Figure size 432x288 with 1 Axes>"
      ]
     },
     "metadata": {
      "needs_background": "light"
     },
     "output_type": "display_data"
    }
   ],
   "source": [
    "genres_corr_low = {}\n",
    "for genre,frame in genres_df_low.items():\n",
    "    if len(frame.index) >= 3:\n",
    "        corr = frame['production_budget'].corr(frame['worldwide_profit'])\n",
    "        genres_corr_low[genre] = corr\n",
    "#         print(f\"{genre}: {corr}\")\n",
    "    else:\n",
    "        print(f\"{genre} only had {len(frame.index)} movies.\")\n",
    "\n",
    "clean_low = {k: genres_corr_low[k] for k in genres_corr_low if not isnan(genres_corr_low[k])}\n",
    "\n",
    "    \n",
    "plt.bar(clean_low.keys(), clean_low.values())\n",
    "plt.xticks(rotation='vertical')\n",
    "plt.xlabel('Genre')\n",
    "plt.ylabel('corr budget vs revenue')\n",
    "plt.title('Correlation of budget vs revenue per genre(LOW BUDGET)');"
   ]
  },
  {
   "cell_type": "code",
   "execution_count": 798,
   "metadata": {
    "scrolled": true
   },
   "outputs": [
    {
     "name": "stdout",
     "output_type": "stream",
     "text": [
      "Musical only had 2 movies.\n"
     ]
    },
    {
     "data": {
      "image/png": "[encoded data removed]",
      "text/plain": [
       "<Figure size 432x288 with 1 Axes>"
      ]
     },
     "metadata": {
      "needs_background": "light"
     },
     "output_type": "display_data"
    }
   ],
   "source": [
    "genres_corr_med = {}\n",
    "for genre,frame in genres_df_med.items():\n",
    "    if len(frame.index) >= 3:\n",
    "        corr = frame['production_budget'].corr(frame['worldwide_profit'])\n",
    "        genres_corr_med[genre] = corr\n",
    "#         print(f\"{genre}: {corr}\")\n",
    "    else:\n",
    "        print(f\"{genre} only had {len(frame.index)} movies.\")\n",
    "\n",
    "plt.bar(genres_corr_med.keys(), genres_corr_med.values())\n",
    "plt.xticks(rotation='vertical')\n",
    "plt.xlabel('Genre')\n",
    "plt.ylabel('corr budget vs revenue')\n",
    "plt.title('Correlation of budget vs revenue per genre(MED BUDGET)');"
   ]
  },
  {
   "cell_type": "code",
   "execution_count": 799,
   "metadata": {
    "scrolled": true
   },
   "outputs": [
    {
     "data": {
      "image/png": "[encoded data removed]",
      "text/plain": [
       "<Figure size 432x288 with 1 Axes>"
      ]
     },
     "metadata": {
      "needs_background": "light"
     },
     "output_type": "display_data"
    }
   ],
   "source": [
    "genres_corr_high = {}\n",
    "for genre,frame in genres_df_high.items():\n",
    "    if len(frame.index) >= 3:\n",
    "        corr = frame['production_budget'].corr(frame['worldwide_profit'])\n",
    "        genres_corr_high[genre] = corr\n",
    "#         print(f\"{genre}: {corr}\")\n",
    "    else:\n",
    "        print(f\"{genre} only had {len(frame.index)} movies.\")\n",
    "        \n",
    "        \n",
    "plt.bar(genres_corr_high.keys(), genres_corr_high.values())\n",
    "plt.xticks(rotation='vertical')\n",
    "plt.xlabel('Genre')\n",
    "plt.ylabel('corr budget vs revenue')\n",
    "plt.title('Correlation of budget vs revenue per genre(HIGH BUDGET)');"
   ]
  },
  {
   "cell_type": "markdown",
   "metadata": {},
   "source": [
    "Based on these observations, we can now recommend genres that are most likely to generate profit from budget at stratified spending amounts.\n",
    "- For a low budget production(sub 5 million dollars), we recommend creating a music movie.\n",
    "- For a medium budget production(between 5 and 50 million dollars), we recommend creating a history movie.\n",
    "- For a high budget production(over 50 million dollars), we recommend creating a war movie.\n"
   ]
  },
  {
   "cell_type": "code",
   "execution_count": null,
   "metadata": {},
   "outputs": [],
   "source": []
  }
 ],
 "metadata": {
  "kernelspec": {
   "display_name": "Python (learn-env)",
   "language": "python",
   "name": "learn-env"
  },
  "language_info": {
   "codemirror_mode": {
    "name": "ipython",
    "version": 3
   },
   "file_extension": ".py",
   "mimetype": "text/x-python",
   "name": "python",
   "nbconvert_exporter": "python",
   "pygments_lexer": "ipython3",
   "version": "3.8.5"
  }
 },
 "nbformat": 4,
 "nbformat_minor": 4
}
